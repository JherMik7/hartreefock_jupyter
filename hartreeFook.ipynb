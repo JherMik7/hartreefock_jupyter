{
 "cells": [
  {
   "attachments": {},
   "cell_type": "markdown",
   "metadata": {},
   "source": [
    "## Primeramente importamos las librerias necesarias"
   ]
  },
  {
   "cell_type": "code",
   "execution_count": 9,
   "metadata": {},
   "outputs": [],
   "source": [
    "# Librerias y definicion\n",
    "import sympy as sp # Libreria de simbolos\n",
    "from sympy import oo # Infinito\n",
    "import numpy as np # Libreria numerica\n",
    "from itertools import product # Producto cartesiano\n",
    "from scipy.linalg import eig # Eigenvalores y eigenvectores\n",
    "from sympy import diff # Derivadas\n",
    "import time as time # Tiempo\n",
    "import matplotlib.pyplot as plt # Graficas\n",
    "from sympy.plotting import plot # Graficas\n",
    "%matplotlib inline \n",
    "from IPython.display import Math # Mostrar ecuaciones\n",
    "from IPython.display import Math\n"
   ]
  },
  {
   "attachments": {},
   "cell_type": "markdown",
   "metadata": {},
   "source": [
    "Luego definimos las funciones:"
   ]
  },
  {
   "cell_type": "code",
   "execution_count": 10,
   "metadata": {},
   "outputs": [],
   "source": [
    "\n",
    "sp.init_printing() # Mostrar ecuaciones\n",
    "\n",
    "r, r1, r2, zeta, zeta1, zeta2 = sp.symbols(\"r, r1, r2, zeta, zeta1, zeta2\") # Definicion de simbolos\n",
    "n = sp.Symbol('n',integer=True) # Definicion de simbolos\n",
    "\n",
    "# Definicion de la funciones de estado con l=0\n",
    "\n",
    "def STO(zeta, n, r=r): # Definicion de la funcion de estado\n",
    "    return (2*zeta)**n*(2*zeta/sp.factorial(2*n))**(1/2)*r**(n-1)*sp.exp(-zeta*r)\n",
    "\n",
    "# definicion del valor esperado del operador hamiltoniano sin considerar la repulcion entre electrones\n",
    "\n",
    "def S_int(f1, f2):# Definicion de la integral de solapamiento\n",
    "    return sp.integrate(f1*f2*r*r ,(r, 0, +oo))\n",
    "\n",
    "def H_int(f1, f2, Z): # Definicion de la integral de hamiltoniano\n",
    "    return sp.integrate(f1*(-((1/2)*(1/r)*diff(diff(r*f2, r), r))-((Z/r)*f2))*r*r, (r,0,+oo))\n",
    "\n",
    "def H_matrix(fs, Z): # Definicion de la matriz de hamiltoniano\n",
    "    H = np.zeros((len(fs),len(fs)))\n",
    "    for i in range(len(fs)):\n",
    "        for j in range(len(fs)):\n",
    "            H[i, j] =  H_int(fs[i], fs[j], Z)\n",
    "    return H    \n",
    "\n",
    "# definicion del valor esperado del operador solapamiento\n",
    "def S_matrix(fs): \n",
    "    S = np.zeros((len(fs),len(fs)))\n",
    "    for i in range(len(fs)):\n",
    "        for j in range(len(fs)):\n",
    "            S[i, j] =  S_int(fs[i], fs[j])\n",
    "\n",
    "    return S \n",
    "\n",
    "# definicion del valor esperado del operador hamiltoniano considerando la repulcion entre electrones\n",
    "def Repulsion_electron(zetas): # Definicion de la integral de repulsion electronica\n",
    "    f1=STO(zetas[0][0], zetas[0][1], r1)\n",
    "    f2=STO(zetas[1][0], zetas[1][1], r1)\n",
    "    f3=STO(zetas[2][0], zetas[2][1], r2)\n",
    "    f4=STO(zetas[3][0], zetas[3][1], r2)\n",
    "    fs = [f1, f2, f3, f4]\n",
    "    B = (1/r1)*sp.integrate(f3*f4*r2*r2 ,(r2, 0, r1)) + sp.integrate((1/r2)*f3*f4*r2*r2 ,(r2, r1, +oo))\n",
    "    A = sp.integrate(f1*f2*r1*r1*B ,(r1, 0, +oo))\n",
    "    return A\n",
    "\n",
    "def P_matrix(Co): # Definicion de la matriz de densidad\n",
    "    P = np.zeros([Co.shape[0], Co.shape[0]])\n",
    "\n",
    "    for t in range(Co.shape[0]):\n",
    "        for u in range(Co.shape[0]):\n",
    "            P[t][u] = 2* Co[t][0]*Co[u][0] + Co[t][1]*Co[u][1]\n",
    "    return P \n",
    "\n",
    "# Energia empleando el metodo variacional \n",
    "def R_matrix(zetas):\n",
    "    R = np.zeros((len(zetas), len(zetas), len(zetas), len(zetas)))\n",
    "\n",
    "    rs = list(product(range(len(zetas)),repeat=2))\n",
    "    tu = list(product(range(len(zetas)),repeat=2))\n",
    "\n",
    "    for r, s in rs:\n",
    "        for t, u in tu:\n",
    "            R[r,s,t,u] = Repulsion_electron((zetas[r], zetas[s], zetas[t], zetas[u]))\n",
    "    return R\n",
    "\n",
    "def G_matrix(zetas, Co, R):\n",
    "\n",
    "    G = np.zeros((Co.shape[0], Co.shape[0]))\n",
    "\n",
    "    P = P_matrix(Co)\n",
    "    \n",
    "    rs = list(product(range( Co.shape[0]),repeat=2))\n",
    "    tu = list(product(range( Co.shape[0]),repeat=2))\n",
    "\n",
    "    for r, s in rs:\n",
    "        g = 0\n",
    "        for t, u in tu:\n",
    "            int1 = R[r, s, t, u]\n",
    "            int2 = R[r, u, t, s]\n",
    "#             print('({0}{1}|{2}{3}): {4}'.format(r, s, t, u, int1))\n",
    "            g+= P[t, u] * (int1 - 0.5 * int2)\n",
    "        G[r, s] = g\n",
    "    return G\n",
    "\n",
    "def F_matrix(fs, Z, zetas, Co, R):\n",
    "    return H_matrix(fs, Z) + G_matrix(zetas, Co, R)\n",
    "\n",
    "# Ecuaciones de Hartree Fock\n",
    "\n",
    "def secular_eqn(F, S):\n",
    "    ei, C = eig(F, S)\n",
    "    \n",
    "    idx = ei.argsort()[::1]   \n",
    "    ei = ei[idx]\n",
    "    C = C[:,idx]\n",
    "    \n",
    "    Co = np.zeros((C.shape[0],C.shape[0]))\n",
    "    inte = np.matmul(np.matmul(C.T, S), C)\n",
    "    for i in range(C.shape[0]):\n",
    "        for j in range(C.shape[0]):\n",
    "            Co[j][i]=C[j][i]/np.sqrt(inte[i][i])\n",
    "\n",
    "    return ei, Co\n",
    "\n",
    "# Energia del atomo\n",
    "\n",
    "def get_E0(e, P, H):\n",
    "    \n",
    "    E0 = 0\n",
    "    for i in range(int(e.shape[0]/2)):\n",
    "        E0 += e[i].real \n",
    "    E0 = E0 + 0.5*(P*H).sum()\n",
    "    return E0\n"
   ]
  },
  {
   "attachments": {},
   "cell_type": "markdown",
   "metadata": {},
   "source": [
    "# Proceso iterativo para determinar la energia del atomo \n"
   ]
  },
  {
   "cell_type": "code",
   "execution_count": 11,
   "metadata": {},
   "outputs": [],
   "source": [
    "# Proceso iterativo para determinar la energia del atomo \n",
    "\n",
    "zetas = [[4.61679, 1], [2.46167, 1], [1.96299, 2], [0.67198, 2]]\n",
    "# Numero atomico del litio\n",
    "Z = 3\n"
   ]
  },
  {
   "cell_type": "code",
   "execution_count": 12,
   "metadata": {},
   "outputs": [
    {
     "name": "stdout",
     "output_type": "stream",
     "text": [
      "------------------------------ Aproximacion cero ------------------------------\n"
     ]
    },
    {
     "data": {
      "text/latex": [
       "$\\displaystyle  energia = -288.69517 \\ eV$"
      ],
      "text/plain": [
       "<IPython.core.display.Math object>"
      ]
     },
     "metadata": {},
     "output_type": "display_data"
    },
    {
     "name": "stdout",
     "output_type": "stream",
     "text": [
      "------------------------------ Aproximacion 1 ------------------------------\n"
     ]
    },
    {
     "data": {
      "text/latex": [
       "$\\displaystyle  energia = -188.28564 \\ eV$"
      ],
      "text/plain": [
       "<IPython.core.display.Math object>"
      ]
     },
     "metadata": {},
     "output_type": "display_data"
    },
    {
     "name": "stdout",
     "output_type": "stream",
     "text": [
      "------------------------------ Aproximacion 2 ------------------------------\n"
     ]
    },
    {
     "data": {
      "text/latex": [
       "$\\displaystyle  energia = -201.62855 \\ eV$"
      ],
      "text/plain": [
       "<IPython.core.display.Math object>"
      ]
     },
     "metadata": {},
     "output_type": "display_data"
    },
    {
     "name": "stdout",
     "output_type": "stream",
     "text": [
      "------------------------------ Aproximacion 3 ------------------------------\n"
     ]
    },
    {
     "data": {
      "text/latex": [
       "$\\displaystyle  energia = -201.74893 \\ eV$"
      ],
      "text/plain": [
       "<IPython.core.display.Math object>"
      ]
     },
     "metadata": {},
     "output_type": "display_data"
    },
    {
     "name": "stdout",
     "output_type": "stream",
     "text": [
      "------------------------------ Aproximacion 4 ------------------------------\n"
     ]
    },
    {
     "data": {
      "text/latex": [
       "$\\displaystyle  energia = -201.75747 \\ eV$"
      ],
      "text/plain": [
       "<IPython.core.display.Math object>"
      ]
     },
     "metadata": {},
     "output_type": "display_data"
    },
    {
     "name": "stdout",
     "output_type": "stream",
     "text": [
      "------------------------------ Aproximacion 5 ------------------------------\n"
     ]
    },
    {
     "data": {
      "text/latex": [
       "$\\displaystyle  energia = -201.75802 \\ eV$"
      ],
      "text/plain": [
       "<IPython.core.display.Math object>"
      ]
     },
     "metadata": {},
     "output_type": "display_data"
    }
   ],
   "source": [
    "f1=STO(zetas[0][0], zetas[0][1])\n",
    "f2=STO(zetas[1][0], zetas[1][1])\n",
    "f3=STO(zetas[2][0], zetas[2][1])\n",
    "f4=STO(zetas[3][0], zetas[3][1])\n",
    "fs = [f1, f2, f3, f4]\n",
    "\n",
    "R = np.zeros((len(zetas), len(zetas), len(zetas), len(zetas)))\n",
    "H = H_matrix(fs, Z)\n",
    "S = S_matrix(fs)\n",
    "e, Co = secular_eqn(H, S)\n",
    "P = P_matrix(Co)\n",
    "scf_H = get_E0(e, P, H)\n",
    "\n",
    "##############################################\n",
    "\n",
    "print('-'*30, \"Aproximacion cero\", '-'*30)        \n",
    "display(Math(' energia = {1} \\ eV'.format(format(scf_H, '0.5f'), format(scf_H*27.211, '0.5f')))) \n",
    "\n",
    "##############################################\n",
    "\n",
    "for i in range(5):\n",
    "    print('-'*30, \"Aproximacion\", i + 1, '-'*30)\n",
    "    if(i==0):\n",
    "        start = time.time()\n",
    "        R = R_matrix(zetas)\n",
    "    else:\n",
    "        start = time.time()\n",
    "    F = F_matrix(fs, Z, zetas, Co, R)\n",
    "    S = S_matrix(fs)\n",
    "    e, Co = secular_eqn(F, S)\n",
    "    P = P_matrix(Co)\n",
    "    scf_H = get_E0(e, P, H)\n",
    "    ##########################################        \n",
    "    display(Math(' energia = {1} \\ eV'.format(format(scf_H, '0.5f'), format(scf_H*27.211, '0.5f'))))  "
   ]
  }
 ],
 "metadata": {
  "kernelspec": {
   "display_name": "Python 3 (ipykernel)",
   "language": "python",
   "name": "python3"
  },
  "language_info": {
   "codemirror_mode": {
    "name": "ipython",
    "version": 3
   },
   "file_extension": ".py",
   "mimetype": "text/x-python",
   "name": "python",
   "nbconvert_exporter": "python",
   "pygments_lexer": "ipython3",
   "version": "3.9.7"
  }
 },
 "nbformat": 4,
 "nbformat_minor": 2
}
